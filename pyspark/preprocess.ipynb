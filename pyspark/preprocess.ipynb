{
 "cells": [
  {
   "cell_type": "code",
   "execution_count": 1,
   "id": "7adbfadc",
   "metadata": {},
   "outputs": [],
   "source": [
    "from os import environ\n",
    "environ['PYSPARK_SUBMIT_ARGS'] = '--packages com.databricks:spark-xml_2.12:0.9.0 pyspark-shell' "
   ]
  },
  {
   "cell_type": "code",
   "execution_count": 2,
   "id": "63e933aa",
   "metadata": {},
   "outputs": [
    {
     "name": "stderr",
     "output_type": "stream",
     "text": [
      "Ivy Default Cache set to: /root/.ivy2/cache\n",
      "The jars for the packages stored in: /root/.ivy2/jars\n",
      ":: loading settings :: url = jar:file:/usr/local/lib/python3.9/dist-packages/pyspark/jars/ivy-2.4.0.jar!/org/apache/ivy/core/settings/ivysettings.xml\n",
      "com.databricks#spark-xml_2.12 added as a dependency\n",
      ":: resolving dependencies :: org.apache.spark#spark-submit-parent-ba20c5e9-53d5-4faa-88db-37b173a10505;1.0\n",
      "\tconfs: [default]\n",
      "\tfound com.databricks#spark-xml_2.12;0.9.0 in central\n",
      "\tfound commons-io#commons-io;2.6 in central\n",
      "\tfound org.glassfish.jaxb#txw2;2.3.2 in central\n",
      ":: resolution report :: resolve 218ms :: artifacts dl 5ms\n",
      "\t:: modules in use:\n",
      "\tcom.databricks#spark-xml_2.12;0.9.0 from central in [default]\n",
      "\tcommons-io#commons-io;2.6 from central in [default]\n",
      "\torg.glassfish.jaxb#txw2;2.3.2 from central in [default]\n",
      "\t---------------------------------------------------------------------\n",
      "\t|                  |            modules            ||   artifacts   |\n",
      "\t|       conf       | number| search|dwnlded|evicted|| number|dwnlded|\n",
      "\t---------------------------------------------------------------------\n",
      "\t|      default     |   3   |   0   |   0   |   0   ||   3   |   0   |\n",
      "\t---------------------------------------------------------------------\n",
      ":: retrieving :: org.apache.spark#spark-submit-parent-ba20c5e9-53d5-4faa-88db-37b173a10505\n",
      "\tconfs: [default]\n",
      "\t0 artifacts copied, 3 already retrieved (0kB/5ms)\n",
      "22/11/06 16:31:17 WARN NativeCodeLoader: Unable to load native-hadoop library for your platform... using builtin-java classes where applicable\n",
      "Using Spark's default log4j profile: org/apache/spark/log4j-defaults.properties\n",
      "Setting default log level to \"WARN\".\n",
      "To adjust logging level use sc.setLogLevel(newLevel). For SparkR, use setLogLevel(newLevel).\n"
     ]
    }
   ],
   "source": [
    "from pyspark.sql import SparkSession\n",
    "\n",
    "spark = SparkSession.\\\n",
    "        builder.\\\n",
    "        appName(\"pyspark-notebook\").\\\n",
    "        master(\"spark://spark-master:7077\").\\\n",
    "        config(\"spark.executor.memory\", \"512m\").\\\n",
    "        getOrCreate()"
   ]
  },
  {
   "cell_type": "code",
   "execution_count": 3,
   "id": "4d94bde8",
   "metadata": {},
   "outputs": [],
   "source": [
    "XML_PATH = 'enwiki-20221001-pages-articles-multistream6.xml-p958046p1483661'"
   ]
  },
  {
   "cell_type": "code",
   "execution_count": 4,
   "id": "25a5201e",
   "metadata": {},
   "outputs": [
    {
     "name": "stderr",
     "output_type": "stream",
     "text": [
      "                                                                                \r"
     ]
    }
   ],
   "source": [
    "df = spark.read.format(\"com.databricks.spark.xml\").option(\"rowTag\", \"page\").load(XML_PATH)"
   ]
  },
  {
   "cell_type": "code",
   "execution_count": 5,
   "id": "3a732ea1",
   "metadata": {},
   "outputs": [
    {
     "name": "stdout",
     "output_type": "stream",
     "text": [
      "root\n",
      " |-- id: long (nullable = true)\n",
      " |-- ns: long (nullable = true)\n",
      " |-- redirect: struct (nullable = true)\n",
      " |    |-- _VALUE: string (nullable = true)\n",
      " |    |-- _title: string (nullable = true)\n",
      " |-- revision: struct (nullable = true)\n",
      " |    |-- comment: struct (nullable = true)\n",
      " |    |    |-- _VALUE: string (nullable = true)\n",
      " |    |    |-- _deleted: string (nullable = true)\n",
      " |    |-- contributor: struct (nullable = true)\n",
      " |    |    |-- _VALUE: string (nullable = true)\n",
      " |    |    |-- _deleted: string (nullable = true)\n",
      " |    |    |-- id: long (nullable = true)\n",
      " |    |    |-- ip: string (nullable = true)\n",
      " |    |    |-- username: string (nullable = true)\n",
      " |    |-- format: string (nullable = true)\n",
      " |    |-- id: long (nullable = true)\n",
      " |    |-- minor: string (nullable = true)\n",
      " |    |-- model: string (nullable = true)\n",
      " |    |-- parentid: long (nullable = true)\n",
      " |    |-- sha1: string (nullable = true)\n",
      " |    |-- text: struct (nullable = true)\n",
      " |    |    |-- _VALUE: string (nullable = true)\n",
      " |    |    |-- _bytes: long (nullable = true)\n",
      " |    |    |-- _space: string (nullable = true)\n",
      " |    |-- timestamp: string (nullable = true)\n",
      " |-- title: string (nullable = true)\n",
      "\n"
     ]
    }
   ],
   "source": [
    "df.printSchema()"
   ]
  },
  {
   "cell_type": "code",
   "execution_count": 6,
   "id": "77b5843e",
   "metadata": {},
   "outputs": [
    {
     "name": "stdout",
     "output_type": "stream",
     "text": [
      "root\n",
      " |-- _VALUE: string (nullable = true)\n",
      " |-- title: string (nullable = true)\n",
      "\n"
     ]
    }
   ],
   "source": [
    "from pyspark.sql.functions import col\n",
    "df_body = df.select(col(\"revision.text._VALUE\"), col(\"title\"))\n",
    "df_body.printSchema()"
   ]
  },
  {
   "cell_type": "code",
   "execution_count": 7,
   "id": "c3285560",
   "metadata": {},
   "outputs": [
    {
     "name": "stderr",
     "output_type": "stream",
     "text": [
      "[Stage 1:>                                                          (0 + 1) / 1]\r"
     ]
    },
    {
     "name": "stdout",
     "output_type": "stream",
     "text": [
      "+--------------------+--------------------+\n",
      "|              _VALUE|               title|\n",
      "+--------------------+--------------------+\n",
      "|{{Infobox settlem...|       Morin-Heights|\n",
      "|{{Short descripti...|           Getafe CF|\n",
      "|{{Short descripti...|Human interface g...|\n",
      "|#REDIRECT [[Coalg...|   Sweedler notation|\n",
      "|#REDIRECT [[coalg...| Sweedler's notation|\n",
      "|#REDIRECT [[coalg...|      Co-commutative|\n",
      "|#REDIRECT [[Coalg...|       Cocommutative|\n",
      "|'''HIG''' may ref...|                 HIG|\n",
      "|{{wiktionary|prev...|       Prevarication|\n",
      "|{{short descripti...|      Pietro Cataldi|\n",
      "|#redirect [[Pietr...|Pietro Antonio Ca...|\n",
      "|#REDIRECT [[Peace...| Peace of westphalia|\n",
      "|'''Cataldi''' is ...|             Cataldi|\n",
      "|{{Short descripti...|97th United State...|\n",
      "|{{short descripti...|         Rick Hearst|\n",
      "|#REDIRECT [[Legis...|  Ontario parliament|\n",
      "|#redirect [[Thirt...|   Thirty year's war|\n",
      "|#REDIRECT [[Legis...| Ontario legislature|\n",
      "|#REDIRECT [[Flext...|           Flex time|\n",
      "|#REDIRECT [[Excep...|       Error handler|\n",
      "+--------------------+--------------------+\n",
      "only showing top 20 rows\n",
      "\n"
     ]
    },
    {
     "name": "stderr",
     "output_type": "stream",
     "text": [
      "                                                                                \r"
     ]
    }
   ],
   "source": [
    "df_body.show()"
   ]
  },
  {
   "cell_type": "code",
   "execution_count": 8,
   "id": "c1450089",
   "metadata": {},
   "outputs": [],
   "source": [
    "def get_artist_expresions():\n",
    "    musician_flags = []\n",
    "    with open('musician_occupancy_flags', 'r', encoding='utf8') as f:\n",
    "        while flag := f.readline().rstrip():\n",
    "            musician_flags.append(\"(?is)\\| *?occupation.*?\"+ flag +\".*?\\n\")\n",
    "    return \"|\".join(musician_flags)"
   ]
  },
  {
   "cell_type": "code",
   "execution_count": 9,
   "id": "fa1fe02d",
   "metadata": {},
   "outputs": [],
   "source": [
    "expresion = get_artist_expresions()\n",
    "df_artists = df_body.filter(df_body['_VALUE'].rlike(expresion))"
   ]
  },
  {
   "cell_type": "code",
   "execution_count": 10,
   "id": "bff2ca5a",
   "metadata": {},
   "outputs": [
    {
     "name": "stderr",
     "output_type": "stream",
     "text": [
      "[Stage 2:>                                                          (0 + 1) / 1]\r"
     ]
    },
    {
     "name": "stdout",
     "output_type": "stream",
     "text": [
      "+--------------------+--------------------+\n",
      "|              _VALUE|               title|\n",
      "+--------------------+--------------------+\n",
      "|{{Short descripti...|Theodore Arthur B...|\n",
      "|{{short descripti...|James Duncan McGr...|\n",
      "|{{short descripti...|         Denis Hayes|\n",
      "|{{Short descripti...|  Ron Taylor (actor)|\n",
      "|{{Short descripti...|         Yoko Tawada|\n",
      "|{{short descripti...|        J. B. Stoner|\n",
      "|{{Short descripti...|       Lewis Gilbert|\n",
      "|{{short descripti...|   Tommy F. Robinson|\n",
      "|{{Short descripti...|Pedro Flores (com...|\n",
      "|{{short descripti...|     Joseph Babinski|\n",
      "|{{short descripti...|            Li Yundi|\n",
      "|{{Use dmy dates|d...|    Toshinobu Kubota|\n",
      "|{{Short descripti...| Christmas Humphreys|\n",
      "|{{Short descripti...|   Gwendolyn MacEwen|\n",
      "|{{short descripti...|      Michiko Naruke|\n",
      "|{{Short descripti...|           Kenji Ito|\n",
      "|{{short descripti...|         Akari Kaida|\n",
      "|{{short descripti...|    Noriyuki Iwadare|\n",
      "|{{Short descripti...|     Grzegorz Turnau|\n",
      "|{{Short descripti...|         Ryuji Sasai|\n",
      "+--------------------+--------------------+\n",
      "only showing top 20 rows\n",
      "\n"
     ]
    },
    {
     "name": "stderr",
     "output_type": "stream",
     "text": [
      "                                                                                \r"
     ]
    }
   ],
   "source": [
    "df_artists.show()"
   ]
  },
  {
   "cell_type": "code",
   "execution_count": 11,
   "id": "4fcb2d08",
   "metadata": {},
   "outputs": [],
   "source": [
    "from udf_infobox import parse_infobox\n",
    "from udf_discography import parse_discography\n",
    "from udf_awards import parse_awards"
   ]
  },
  {
   "cell_type": "code",
   "execution_count": 12,
   "id": "4b54c958",
   "metadata": {},
   "outputs": [],
   "source": [
    "df_parsed_infobox = df_artists.withColumn(\"about\", parse_infobox(col(\"_VALUE\")))\n",
    "df_parsed_infobox = df_parsed_infobox.withColumn(\"songs\", parse_discography(col(\"_VALUE\")))\n",
    "df_parsed_infobox = df_parsed_infobox.withColumn(\"awards_list\", parse_awards(col(\"_VALUE\")))"
   ]
  },
  {
   "cell_type": "code",
   "execution_count": 13,
   "id": "aff0b716",
   "metadata": {},
   "outputs": [
    {
     "name": "stderr",
     "output_type": "stream",
     "text": [
      "[Stage 3:>                                                          (0 + 1) / 1]\r"
     ]
    },
    {
     "name": "stdout",
     "output_type": "stream",
     "text": [
      "+--------------------+--------------------+--------------------+--------------------+--------------------+\n",
      "|              _VALUE|               title|               about|               songs|         awards_list|\n",
      "+--------------------+--------------------+--------------------+--------------------+--------------------+\n",
      "|{{Short descripti...|Theodore Arthur B...|{'honorific-prefi...|                  []|                  []|\n",
      "|{{short descripti...|James Duncan McGr...|{'honorific-prefi...|                  []|                  []|\n",
      "|{{short descripti...|         Denis Hayes|{'name': 'Denis H...|                  []|                  []|\n",
      "|{{Short descripti...|  Ron Taylor (actor)|{'name': 'Ron Tay...|                  []|                  []|\n",
      "|{{Short descripti...|         Yoko Tawada|{'name': 'Yōko Ta...|                  []|                  []|\n",
      "|{{short descripti...|        J. B. Stoner|{'name': 'J.B. St...|                  []|                  []|\n",
      "|{{Short descripti...|       Lewis Gilbert|{'name': 'Lewis G...|                  []|                  []|\n",
      "|{{short descripti...|   Tommy F. Robinson|{'name': 'Tommy F...|                  []|                  []|\n",
      "|{{Short descripti...|Pedro Flores (com...|{'name': 'Pedro F...|                  []|                  []|\n",
      "|{{short descripti...|     Joseph Babinski|{'name': 'Joseph ...|                  []|                  []|\n",
      "|{{short descripti...|            Li Yundi|{'name': 'Li Yund...|                  []|                  []|\n",
      "|{{Use dmy dates|d...|    Toshinobu Kubota|{'name': 'Toshino...|[('Studio albums'...|[['1989', '\"Indig...|\n",
      "|{{Short descripti...| Christmas Humphreys|{'name': 'Christm...|                  []|                  []|\n",
      "|{{Short descripti...|   Gwendolyn MacEwen|{'image': 'Gwendo...|['Open Secret.', ...|                  []|\n",
      "|{{short descripti...|      Michiko Naruke|{'name': 'Michiko...|                  []|                  []|\n",
      "|{{Short descripti...|           Kenji Ito|{'name': 'Kenji I...|                  []|                  []|\n",
      "|{{short descripti...|         Akari Kaida|{'name': 'Akari K...|                  []|                  []|\n",
      "|{{short descripti...|    Noriyuki Iwadare|{'name': 'Noriyuk...|                  []|                  []|\n",
      "|{{Short descripti...|     Grzegorz Turnau|{'name': 'Grzegor...|[('Solo albums', ...|                  []|\n",
      "|{{Short descripti...|         Ryuji Sasai|{'name': 'Ryuji S...|                  []|                  []|\n",
      "+--------------------+--------------------+--------------------+--------------------+--------------------+\n",
      "only showing top 20 rows\n",
      "\n"
     ]
    },
    {
     "name": "stderr",
     "output_type": "stream",
     "text": [
      "                                                                                \r"
     ]
    }
   ],
   "source": [
    "df_parsed_infobox.show()"
   ]
  },
  {
   "cell_type": "code",
   "execution_count": 14,
   "id": "31765cab",
   "metadata": {},
   "outputs": [
    {
     "name": "stdout",
     "output_type": "stream",
     "text": [
      "2\n"
     ]
    }
   ],
   "source": [
    "sc = spark._jsc.sc() \n",
    "n_workers =  len([executor.host() for executor in sc.statusTracker().getExecutorInfos() ]) -1\n",
    "\n",
    "print(n_workers)"
   ]
  },
  {
   "cell_type": "code",
   "execution_count": 15,
   "id": "6e276d02",
   "metadata": {},
   "outputs": [],
   "source": [
    "cols = [\"title\", \"about\", \"songs\", \"awards_list\"]\n",
    "df = df_parsed_infobox.select(*cols)"
   ]
  },
  {
   "cell_type": "code",
   "execution_count": 17,
   "id": "703adf15",
   "metadata": {},
   "outputs": [
    {
     "name": "stderr",
     "output_type": "stream",
     "text": [
      "                                                                                \r"
     ]
    }
   ],
   "source": [
    "df.write.json(\"full_test.json\")"
   ]
  },
  {
   "cell_type": "code",
   "execution_count": null,
   "id": "a76893fc",
   "metadata": {},
   "outputs": [],
   "source": []
  },
  {
   "cell_type": "code",
   "execution_count": null,
   "id": "bdaca00a",
   "metadata": {},
   "outputs": [],
   "source": []
  }
 ],
 "metadata": {
  "kernelspec": {
   "display_name": "Python 3 (ipykernel)",
   "language": "python",
   "name": "python3"
  },
  "language_info": {
   "codemirror_mode": {
    "name": "ipython",
    "version": 3
   },
   "file_extension": ".py",
   "mimetype": "text/x-python",
   "name": "python",
   "nbconvert_exporter": "python",
   "pygments_lexer": "ipython3",
   "version": "3.9.2"
  }
 },
 "nbformat": 4,
 "nbformat_minor": 5
}

{
 "cells": [
  {
   "cell_type": "code",
   "execution_count": 1,
   "id": "f96e4418",
   "metadata": {},
   "outputs": [],
   "source": [
    "from os import environ\n",
    "environ['PYSPARK_SUBMIT_ARGS'] = '--packages com.databricks:spark-xml_2.12:0.9.0 pyspark-shell' "
   ]
  },
  {
   "cell_type": "code",
   "execution_count": 2,
   "id": "6aa37fee",
   "metadata": {},
   "outputs": [
    {
     "name": "stderr",
     "output_type": "stream",
     "text": [
      "Ivy Default Cache set to: /root/.ivy2/cache\n",
      "The jars for the packages stored in: /root/.ivy2/jars\n",
      ":: loading settings :: url = jar:file:/usr/local/lib/python3.9/dist-packages/pyspark/jars/ivy-2.4.0.jar!/org/apache/ivy/core/settings/ivysettings.xml\n",
      "com.databricks#spark-xml_2.12 added as a dependency\n",
      ":: resolving dependencies :: org.apache.spark#spark-submit-parent-f8280954-313b-4bc8-bd57-48e9e8666d38;1.0\n",
      "\tconfs: [default]\n",
      "\tfound com.databricks#spark-xml_2.12;0.9.0 in central\n",
      "\tfound commons-io#commons-io;2.6 in central\n",
      "\tfound org.glassfish.jaxb#txw2;2.3.2 in central\n",
      ":: resolution report :: resolve 237ms :: artifacts dl 6ms\n",
      "\t:: modules in use:\n",
      "\tcom.databricks#spark-xml_2.12;0.9.0 from central in [default]\n",
      "\tcommons-io#commons-io;2.6 from central in [default]\n",
      "\torg.glassfish.jaxb#txw2;2.3.2 from central in [default]\n",
      "\t---------------------------------------------------------------------\n",
      "\t|                  |            modules            ||   artifacts   |\n",
      "\t|       conf       | number| search|dwnlded|evicted|| number|dwnlded|\n",
      "\t---------------------------------------------------------------------\n",
      "\t|      default     |   3   |   0   |   0   |   0   ||   3   |   0   |\n",
      "\t---------------------------------------------------------------------\n",
      ":: retrieving :: org.apache.spark#spark-submit-parent-f8280954-313b-4bc8-bd57-48e9e8666d38\n",
      "\tconfs: [default]\n",
      "\t0 artifacts copied, 3 already retrieved (0kB/9ms)\n",
      "22/11/27 11:38:19 WARN NativeCodeLoader: Unable to load native-hadoop library for your platform... using builtin-java classes where applicable\n",
      "Using Spark's default log4j profile: org/apache/spark/log4j-defaults.properties\n",
      "Setting default log level to \"WARN\".\n",
      "To adjust logging level use sc.setLogLevel(newLevel). For SparkR, use setLogLevel(newLevel).\n"
     ]
    }
   ],
   "source": [
    "from pyspark.sql import SparkSession\n",
    "\n",
    "spark = SparkSession.\\\n",
    "        builder.\\\n",
    "        appName(\"pyspark-notebook\").\\\n",
    "        master(\"spark://spark-master:7077\").\\\n",
    "        config(\"spark.executor.memory\", \"512m\").\\\n",
    "        getOrCreate()"
   ]
  },
  {
   "cell_type": "code",
   "execution_count": 3,
   "id": "08f60a65",
   "metadata": {},
   "outputs": [],
   "source": [
    "# XML_PATH = 'enwiki-20221001-pages-articles-multistream6.xml-p958046p1483661'\n",
    "# XML_PATH = 'enwiki-20211020-pages-articles-multistream.xml.bz2'\n",
    "XML_PATH = \"enwiki-20211020-pages-articles-multistream.xml\""
   ]
  },
  {
   "cell_type": "code",
   "execution_count": 4,
   "id": "e3f5a42e",
   "metadata": {},
   "outputs": [
    {
     "name": "stderr",
     "output_type": "stream",
     "text": [
      "                                                                                \r"
     ]
    }
   ],
   "source": [
    "df = spark.read.format(\"com.databricks.spark.xml\").option(\"rowTag\", \"page\").load(XML_PATH)"
   ]
  },
  {
   "cell_type": "code",
   "execution_count": 5,
   "id": "0faa9129",
   "metadata": {},
   "outputs": [
    {
     "name": "stdout",
     "output_type": "stream",
     "text": [
      "root\n",
      " |-- id: long (nullable = true)\n",
      " |-- ns: long (nullable = true)\n",
      " |-- redirect: struct (nullable = true)\n",
      " |    |-- _VALUE: string (nullable = true)\n",
      " |    |-- _title: string (nullable = true)\n",
      " |-- revision: struct (nullable = true)\n",
      " |    |-- comment: struct (nullable = true)\n",
      " |    |    |-- _VALUE: string (nullable = true)\n",
      " |    |    |-- _deleted: string (nullable = true)\n",
      " |    |-- contributor: struct (nullable = true)\n",
      " |    |    |-- _VALUE: string (nullable = true)\n",
      " |    |    |-- _deleted: string (nullable = true)\n",
      " |    |    |-- id: long (nullable = true)\n",
      " |    |    |-- ip: string (nullable = true)\n",
      " |    |    |-- username: string (nullable = true)\n",
      " |    |-- format: string (nullable = true)\n",
      " |    |-- id: long (nullable = true)\n",
      " |    |-- minor: string (nullable = true)\n",
      " |    |-- model: string (nullable = true)\n",
      " |    |-- parentid: long (nullable = true)\n",
      " |    |-- sha1: string (nullable = true)\n",
      " |    |-- text: struct (nullable = true)\n",
      " |    |    |-- _VALUE: string (nullable = true)\n",
      " |    |    |-- _bytes: long (nullable = true)\n",
      " |    |    |-- _space: string (nullable = true)\n",
      " |    |-- timestamp: string (nullable = true)\n",
      " |-- title: string (nullable = true)\n",
      "\n"
     ]
    }
   ],
   "source": [
    "df.printSchema()"
   ]
  },
  {
   "cell_type": "code",
   "execution_count": 6,
   "id": "d1918dbc",
   "metadata": {},
   "outputs": [
    {
     "name": "stdout",
     "output_type": "stream",
     "text": [
      "root\n",
      " |-- _VALUE: string (nullable = true)\n",
      " |-- title: string (nullable = true)\n",
      "\n"
     ]
    }
   ],
   "source": [
    "from pyspark.sql.functions import col\n",
    "df_body = df.select(col(\"revision.text._VALUE\"), col(\"title\"))\n",
    "df_body.printSchema()"
   ]
  },
  {
   "cell_type": "code",
   "execution_count": 7,
   "id": "e54ba844",
   "metadata": {},
   "outputs": [
    {
     "name": "stderr",
     "output_type": "stream",
     "text": [
      "[Stage 1:>                                                          (0 + 1) / 1]\r"
     ]
    },
    {
     "name": "stdout",
     "output_type": "stream",
     "text": [
      "+--------------------+--------------------+\n",
      "|              _VALUE|               title|\n",
      "+--------------------+--------------------+\n",
      "|#REDIRECT [[Compu...| AccessibleComputing|\n",
      "|{{short descripti...|           Anarchism|\n",
      "|#REDIRECT [[Histo...|  AfghanistanHistory|\n",
      "|#REDIRECT [[Geogr...|AfghanistanGeography|\n",
      "|#REDIRECT [[Demog...|   AfghanistanPeople|\n",
      "|#REDIRECT [[Commu...|AfghanistanCommun...|\n",
      "|#REDIRECT [[Trans...|AfghanistanTransp...|\n",
      "|#REDIRECT [[Afgha...| AfghanistanMilitary|\n",
      "|#REDIRECT [[Forei...|AfghanistanTransn...|\n",
      "|#REDIRECT [[Assis...| AssistiveTechnology|\n",
      "|#REDIRECT [[Amoeb...|        AmoeboidTaxa|\n",
      "|{{Short descripti...|              Autism|\n",
      "|#REDIRECT [[Histo...|      AlbaniaHistory|\n",
      "|#REDIRECT [[Demog...|       AlbaniaPeople|\n",
      "|#REDIRECT [[As_We...|        AsWeMayThink|\n",
      "|#REDIRECT [[Polit...|   AlbaniaGovernment|\n",
      "|#REDIRECT [[Econo...|      AlbaniaEconomy|\n",
      "|{{Short descripti...|              Albedo|\n",
      "|#REDIRECT [[Afroa...|AfroAsiaticLanguages|\n",
      "|#REDIRECT [[Const...|  ArtificalLanguages|\n",
      "+--------------------+--------------------+\n",
      "only showing top 20 rows\n",
      "\n"
     ]
    },
    {
     "name": "stderr",
     "output_type": "stream",
     "text": [
      "                                                                                \r"
     ]
    }
   ],
   "source": [
    "df_body.show()"
   ]
  },
  {
   "cell_type": "code",
   "execution_count": 8,
   "id": "3be894fe",
   "metadata": {},
   "outputs": [],
   "source": [
    "def get_artist_expresions():\n",
    "    musician_flags = []\n",
    "    with open('musician_occupancy_flags', 'r', encoding='utf8') as f:\n",
    "        while flag := f.readline().rstrip():\n",
    "            musician_flags.append(\"(?is)\\| *?occupation.*?\"+ flag +\".*?\\n\")\n",
    "    return \"|\".join(musician_flags)"
   ]
  },
  {
   "cell_type": "code",
   "execution_count": 9,
   "id": "115d4888",
   "metadata": {},
   "outputs": [],
   "source": [
    "expresion = get_artist_expresions()\n",
    "df_artists = df_body.filter(df_body['_VALUE'].rlike(expresion))"
   ]
  },
  {
   "cell_type": "code",
   "execution_count": 10,
   "id": "811acc56",
   "metadata": {},
   "outputs": [
    {
     "name": "stderr",
     "output_type": "stream",
     "text": [
      "[Stage 2:>                                                          (0 + 1) / 1]\r"
     ]
    },
    {
     "name": "stdout",
     "output_type": "stream",
     "text": [
      "+--------------------+--------------------+\n",
      "|              _VALUE|               title|\n",
      "+--------------------+--------------------+\n",
      "|{{Short descripti...|     Abraham Lincoln|\n",
      "|{{short descripti...|            Ayn Rand|\n",
      "|{{Short descripti...|          Allan Dwan|\n",
      "|{{short descripti...|             Algeria|\n",
      "|{{short descripti...|       Aldous Huxley|\n",
      "|{{short descripti...|    Andrei Tarkovsky|\n",
      "|{{short descripti...|    Alfred Hitchcock|\n",
      "|{{short descripti...|        Alfred Nobel|\n",
      "|{{pp-semi-indef}}...|Alexander Graham ...|\n",
      "|{{redirect|Kurosa...|      Akira Kurosawa|\n",
      "|{{short descripti...|      A. E. van Vogt|\n",
      "|{{Use mdy dates|d...|  Advanced Chemistry|\n",
      "|{{Short descripti...|         A. A. Milne|\n",
      "|{{short descripti...|       Alvin Toffler|\n",
      "|{{short descripti...|     Agatha Christie|\n",
      "|{{short descripti...|      Hercule Poirot|\n",
      "|{{Short descripti...|         Miss Marple|\n",
      "|{{short descripti...|      Allen Ginsberg|\n",
      "|{{Short descripti...|        Aristophanes|\n",
      "|{{short descripti...|              Aarhus|\n",
      "+--------------------+--------------------+\n",
      "only showing top 20 rows\n",
      "\n"
     ]
    },
    {
     "name": "stderr",
     "output_type": "stream",
     "text": [
      "                                                                                \r"
     ]
    }
   ],
   "source": [
    "df_artists.show()"
   ]
  },
  {
   "cell_type": "code",
   "execution_count": 11,
   "id": "97cd62e2",
   "metadata": {},
   "outputs": [],
   "source": [
    "from udf_infobox import parse_infobox\n",
    "from udf_discography import parse_discography\n",
    "from udf_awards import parse_awards"
   ]
  },
  {
   "cell_type": "code",
   "execution_count": 12,
   "id": "1402be22",
   "metadata": {},
   "outputs": [],
   "source": [
    "df_parsed_infobox = df_artists.withColumn(\"about\", parse_infobox(col(\"_VALUE\")))\n",
    "df_parsed_infobox = df_parsed_infobox.withColumn(\"songs\", parse_discography(col(\"_VALUE\")))\n",
    "df_parsed_infobox = df_parsed_infobox.withColumn(\"awards_list\", parse_awards(col(\"_VALUE\")))"
   ]
  },
  {
   "cell_type": "code",
   "execution_count": 13,
   "id": "36f77b09",
   "metadata": {},
   "outputs": [
    {
     "name": "stderr",
     "output_type": "stream",
     "text": [
      "[Stage 3:>                                                          (0 + 1) / 1]\r"
     ]
    },
    {
     "name": "stdout",
     "output_type": "stream",
     "text": [
      "+--------------------+--------------------+--------------------+--------------------+-----------+\n",
      "|              _VALUE|               title|               about|               songs|awards_list|\n",
      "+--------------------+--------------------+--------------------+--------------------+-----------+\n",
      "|{{Short descripti...|     Abraham Lincoln|{'image': 'Abraha...|                  []|         []|\n",
      "|{{short descripti...|            Ayn Rand|{'name': 'Ayn Ran...|                  []|         []|\n",
      "|{{Short descripti...|          Allan Dwan|{'name': 'Allan D...|                  []|         []|\n",
      "|{{short descripti...|             Algeria|                  {}|                  []|         []|\n",
      "|{{short descripti...|       Aldous Huxley|{'name': 'Aldous ...|                  []|         []|\n",
      "|{{short descripti...|    Andrei Tarkovsky|{'name': 'Andrei ...|                  []|         []|\n",
      "|{{short descripti...|    Alfred Hitchcock|{'honorific_prefi...|                  []|         []|\n",
      "|{{short descripti...|        Alfred Nobel|{'birth_name': 'A...|                  []|         []|\n",
      "|{{pp-semi-indef}}...|Alexander Graham ...|                  {}|                  []|         []|\n",
      "|{{redirect|Kurosa...|      Akira Kurosawa|{'name': 'Akira K...|                  []|         []|\n",
      "|{{short descripti...|      A. E. van Vogt|{'name': 'A. E. v...|                  []|         []|\n",
      "|{{Use mdy dates|d...|  Advanced Chemistry|{'name': 'Advance...|['Advanced Chemis...|         []|\n",
      "|{{Short descripti...|         A. A. Milne|{'image': 'Milne-...|                  []|         []|\n",
      "|{{short descripti...|       Alvin Toffler|                  {}|                  []|         []|\n",
      "|{{short descripti...|     Agatha Christie|{'honorific_prefi...|                  []|         []|\n",
      "|{{short descripti...|      Hercule Poirot|{'name': 'Hercule...|                  []|         []|\n",
      "|{{Short descripti...|         Miss Marple|{'color': '#FF5F5...|                  []|         []|\n",
      "|{{short descripti...|      Allen Ginsberg|{'name': 'Allen G...|                  []|         []|\n",
      "|{{Short descripti...|        Aristophanes|{'name': 'Aristop...|                  []|         []|\n",
      "|{{short descripti...|              Aarhus|{'name': 'Aarhus'...|                  []|         []|\n",
      "+--------------------+--------------------+--------------------+--------------------+-----------+\n",
      "only showing top 20 rows\n",
      "\n"
     ]
    },
    {
     "name": "stderr",
     "output_type": "stream",
     "text": [
      "                                                                                \r"
     ]
    }
   ],
   "source": [
    "df_parsed_infobox.show()"
   ]
  },
  {
   "cell_type": "code",
   "execution_count": 14,
   "id": "1392caa2",
   "metadata": {},
   "outputs": [
    {
     "name": "stdout",
     "output_type": "stream",
     "text": [
      "2\n"
     ]
    }
   ],
   "source": [
    "sc = spark._jsc.sc() \n",
    "n_workers =  len([executor.host() for executor in sc.statusTracker().getExecutorInfos() ]) -1\n",
    "\n",
    "print(n_workers)"
   ]
  },
  {
   "cell_type": "code",
   "execution_count": 15,
   "id": "aa96e837",
   "metadata": {},
   "outputs": [],
   "source": [
    "cols = [\"title\", \"about\", \"songs\", \"awards_list\"]\n",
    "df = df_parsed_infobox.select(*cols)"
   ]
  },
  {
   "cell_type": "code",
   "execution_count": 16,
   "id": "14ad0077",
   "metadata": {},
   "outputs": [
    {
     "name": "stderr",
     "output_type": "stream",
     "text": [
      "                                                                                \r"
     ]
    }
   ],
   "source": [
    "df.write.json(\"full_test.json\")"
   ]
  }
 ],
 "metadata": {
  "kernelspec": {
   "display_name": "Python 3 (ipykernel)",
   "language": "python",
   "name": "python3"
  },
  "language_info": {
   "codemirror_mode": {
    "name": "ipython",
    "version": 3
   },
   "file_extension": ".py",
   "mimetype": "text/x-python",
   "name": "python",
   "nbconvert_exporter": "python",
   "pygments_lexer": "ipython3",
   "version": "3.9.2"
  }
 },
 "nbformat": 4,
 "nbformat_minor": 5
}
